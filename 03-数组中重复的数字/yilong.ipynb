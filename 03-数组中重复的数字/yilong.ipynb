{
 "metadata": {
  "language_info": {
   "codemirror_mode": {
    "name": "ipython",
    "version": 3
   },
   "file_extension": ".py",
   "mimetype": "text/x-python",
   "name": "python",
   "nbconvert_exporter": "python",
   "pygments_lexer": "ipython3",
   "version": "3.7.3-final"
  },
  "orig_nbformat": 2,
  "kernelspec": {
   "name": "python3",
   "display_name": "Python 3"
  }
 },
 "nbformat": 4,
 "nbformat_minor": 2,
 "cells": [
  {
   "source": [
    "# 解题思路\n",
    "1. 遍历数据, 使用集合储存遍历到的数字, 如果当前数据存在于集合中则为重复数据, 时间和空间复杂度均为O(n)\n",
    "2. 因为数组内数字的范围是0～n-1, 所以把当前数字i转移到下表为i的位置，如果没有重复则每个位置上一个数字，如果换位时对应位置已经是正确数字，则该数字为重复"
   ],
   "cell_type": "markdown",
   "metadata": {}
  },
  {
   "cell_type": "code",
   "execution_count": 1,
   "metadata": {},
   "outputs": [
    {
     "output_type": "execute_result",
     "data": {
      "text/plain": [
       "2"
      ]
     },
     "metadata": {},
     "execution_count": 1
    }
   ],
   "source": [
    "# 代码1\n",
    "class Solution:\n",
    "    def findRepeatNumber(self, nums):\n",
    "        count = set()\n",
    "        for n in nums:\n",
    "            if n in count:\n",
    "                return n\n",
    "            else:\n",
    "                count.add(n)\n",
    "\n",
    "nums = [2, 3, 1, 0, 2, 5, 3]\n",
    "Solution().findRepeatNumber(nums)"
   ]
  },
  {
   "cell_type": "code",
   "execution_count": 2,
   "metadata": {},
   "outputs": [
    {
     "output_type": "execute_result",
     "data": {
      "text/plain": [
       "2"
      ]
     },
     "metadata": {},
     "execution_count": 2
    }
   ],
   "source": [
    "# 代码2\n",
    "class Solution:\n",
    "    def findRepeatNumber(self, nums):\n",
    "        for i in range(len(nums)):\n",
    "            if i != nums[i]:\n",
    "                if nums[i] == nums[nums[i]]:\n",
    "                    return nums[i] \n",
    "                else:\n",
    "                    tmp = nums[nums[i]]\n",
    "                    nums[nums[i]] = nums[i]\n",
    "                    nums[i] = tmp\n",
    "        return -1\n",
    "\n",
    "nums = [2, 3, 1, 0, 2, 5, 3]\n",
    "Solution().findRepeatNumber(nums)"
   ]
  },
  {
   "cell_type": "code",
   "execution_count": null,
   "metadata": {},
   "outputs": [],
   "source": []
  }
 ]
}